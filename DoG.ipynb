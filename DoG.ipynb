{
 "cells": [
  {
   "cell_type": "code",
   "execution_count": 23,
   "metadata": {},
   "outputs": [],
   "source": [
    "from scipy.ndimage.filters import gaussian_filter\n",
    "import numpy as np\n",
    "import PIL.Image as Image\n",
    "\n",
    "def mydisplay(img1,img2):\n",
    "    dog = (img2 - img1)\n",
    "    pmin = np.min(dog)\n",
    "    pmax = np.max(dog) \n",
    "    dog -= pmin\n",
    "    dog *= 255 / (pmax - pmin)\n",
    "    Image.fromarray(dog).show()    #show DoG image\n",
    "    \n",
    "org = Image.open(\"apic0.png\").convert('L')\n",
    "org.show()\n",
    " \n",
    "sigma = 0.8                      #first scale\n",
    "# k= 2**(1/3.)\n",
    "k= 2**3\n",
    "\n",
    "img = np.array(org, np.float64)\n",
    "g1img = gaussian_filter(img, sigma)    #first scale image\n",
    "# Image.fromarray(g1img).show()\n",
    "\n",
    "sigma = sigma * k\n",
    "g2img = gaussian_filter(img, sigma)  #second scale image\n",
    "# Image.fromarray(g2img).show()\n",
    "mydisplay(g1img,g2img)\n",
    "\n",
    "sigma = sigma * k\n",
    "g3img = gaussian_filter(img, sigma)  #second scale image\n",
    "Image.fromarray(g2img).show()\n",
    "mydisplay(g2img,g3img)\n",
    "\n",
    "mydisplay(g3img-g2img, g2img-g1img)\n",
    "\n",
    "\n",
    "\n"
   ]
  },
  {
   "cell_type": "code",
   "execution_count": 12,
   "metadata": {},
   "outputs": [
    {
     "data": {
      "text/plain": [
       "1.0079368399158986"
      ]
     },
     "execution_count": 12,
     "metadata": {},
     "output_type": "execute_result"
    }
   ],
   "source": [
    "1.6/2**(1/3.)/2**(1/3.)"
   ]
  },
  {
   "cell_type": "code",
   "execution_count": null,
   "metadata": {
    "collapsed": true
   },
   "outputs": [],
   "source": []
  }
 ],
 "metadata": {
  "kernelspec": {
   "display_name": "Python 3",
   "language": "python",
   "name": "python3"
  },
  "language_info": {
   "codemirror_mode": {
    "name": "ipython",
    "version": 3
   },
   "file_extension": ".py",
   "mimetype": "text/x-python",
   "name": "python",
   "nbconvert_exporter": "python",
   "pygments_lexer": "ipython3",
   "version": "3.6.2"
  }
 },
 "nbformat": 4,
 "nbformat_minor": 2
}
