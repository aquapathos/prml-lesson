{
 "cells": [
  {
   "cell_type": "markdown",
   "metadata": {},
   "source": [
    "# K-means 法の実験"
   ]
  },
  {
   "cell_type": "code",
   "execution_count": null,
   "metadata": {
    "collapsed": true
   },
   "outputs": [],
   "source": [
    "import numpy as np\n",
    "import numpy.matlib\n",
    "import matplotlib.pyplot as plt\n",
    "from matplotlib import font_manager\n",
    "from sklearn.cluster import KMeans\n",
    "import pandas as pd\n",
    "from mpl_toolkits.mplot3d import Axes3D\n",
    "# %matplotlib　notebook\n",
    "%matplotlib　inline\n",
    "% config InlineBackend.figure_format='retina'"
   ]
  },
  {
   "cell_type": "markdown",
   "metadata": {},
   "source": [
    "# 実験１仮想成績データのクラスタリング"
   ]
  },
  {
   "cell_type": "markdown",
   "metadata": {},
   "source": [
    "# 仮想データの生成"
   ]
  },
  {
   "cell_type": "code",
   "execution_count": null,
   "metadata": {},
   "outputs": [],
   "source": [
    "# ダミーデータの生成　　　　日常点、試験点\n",
    "np.random.seed(1)\n",
    "data1 = np.round(np.random.multivariate_normal([45,45],[[8,0],[0,8]],30),1)  # どちらもよい\n",
    "data2 = np.round(np.random.multivariate_normal([40,18],[[10,0],[0,10]],30),1)  # 日常点はよいが試験はいまいち\n",
    "data3 = np.round(np.random.multivariate_normal([28,28],[[10,0],[0,10]],30),1)  #  凡庸\n",
    "data４ = np.round(np.random.multivariate_normal([18,40],[[10,0],[0,10]],30),1)  # 日常点は悪いが試験はできる\n",
    "data５ = np.round(np.random.multivariate_normal([10,10],[[8,0],[0,20]],30),1)  # だめだめ\n",
    "\n",
    "data = np.r_[data1,data2,data3,data4,data5]\n",
    "rank = np.r_[np.array(['A']*30),np.array(['B']*30),np.array(['C']*30),np.array(['D']*30),np.array(['E']*30)]\n",
    "df = pd.DataFrame(data,columns=['Nichijo','Siken'])\n",
    "df['Rank']=rank\n",
    "df= df.reindex(np.random.permutation(df.index)).reset_index(drop=True)\n",
    "df.head(5) #  頭から 5個だけ表示"
   ]
  },
  {
   "cell_type": "markdown",
   "metadata": {},
   "source": [
    "# ヒストグラムと散布図"
   ]
  },
  {
   "cell_type": "code",
   "execution_count": null,
   "metadata": {},
   "outputs": [],
   "source": [
    "fig = plt.figure(figsize=(8,6))\n",
    "# サブプロットを追加\n",
    "ax1 = fig.add_subplot(2,2,1)\n",
    "ax2 = fig.add_subplot(2,2,2)\n",
    "ax3 = fig.add_subplot(2,2,3)\n",
    "ax4 = fig.add_subplot(2,2,4)\n",
    "ax1.hist(df['Siken'],bins=20,color='k',alpha=0.3) # 試験点のヒストグラム\n",
    "ax2.hist(df['Nichijo'],bins=20,color='k',alpha=0.3) # 日常点のヒストグラム\n",
    "ax3.scatter(df['Nichijo'],df['Siken']) # 　日常点と試験の相関\n",
    "ax3.set_xlabel(\"Nichijo\")\n",
    "ax3.set_ylabel(\"Siken\")\n",
    "ax4.scatter(df['Siken'],df['Nichijo'])\n",
    "ax4.set_xlabel(\"Siken\")\n",
    "ax4.set_ylabel(\"Nichijo\")\n",
    "plt.show()"
   ]
  },
  {
   "cell_type": "code",
   "execution_count": null,
   "metadata": {},
   "outputs": [],
   "source": [
    "dx,dy,rk = np.array(df['Nichijo']),np.array(df['Siken']),np.array(df['Rank'])\n",
    "fig = plt.figure()\n",
    "plt.scatter(dx[df['Rank']=='A'], dy[df['Rank']=='A'], c=\"green\")\n",
    "plt.scatter(dx[df['Rank']=='B'], dy[df['Rank']=='B'], c=\"blue\")\n",
    "plt.scatter(dx[df['Rank']=='C'], dy[df['Rank']=='C'], c=\"orange\")\n",
    "plt.scatter(dx[df['Rank']=='C'], dy[df['Rank']=='C'], c=\"orange\")\n",
    "plt.scatter(dx[df['Rank']=='D'], dy[df['Rank']=='D'], c=\"purple\")\n",
    "plt.scatter(dx[df['Rank']=='E'], dy[df['Rank']=='E'], c=\"red\")\n",
    "plt.show()"
   ]
  },
  {
   "cell_type": "markdown",
   "metadata": {},
   "source": [
    "# k-means 法でクラスタリングしてみる"
   ]
  },
  {
   "cell_type": "code",
   "execution_count": null,
   "metadata": {
    "collapsed": true
   },
   "outputs": [],
   "source": [
    "# データの数値部分のみを抽出\n",
    "data = df.T[0:2].T\n",
    "data.head()\n",
    "\n",
    "# k-means 法実行メソッド　 ｋ:　クラス数、 itr: クラスタ更新回数  \n",
    "def go(k,itr):\n",
    "    global result\n",
    "    km = KMeans(n_clusters=k,init='random',n_init=1,max_iter=itr,random_state=1)\n",
    "    result = km.fit(data)\n",
    "    fig = plt.figure()\n",
    " \n",
    "    print(u\"クラスタ重心\\n\",np.round([km.cluster_centers_[:,0],km.cluster_centers_[:,1]],2))\n",
    "    plt.scatter(km.cluster_centers_[:,0],km.cluster_centers_[:,1],marker='X',c='black')\n",
    "    plt.scatter(dx[result.labels_==0.0], dy[result.labels_==0.0], c=\"green\")\n",
    "    plt.scatter(dx[result.labels_==1.0], dy[result.labels_==1.0], c=\"blue\")\n",
    "    plt.scatter(dx[result.labels_==2.0], dy[result.labels_==2.0],c=\"orange\")\n",
    "    plt.scatter(dx[result.labels_==3.0], dy[result.labels_==3.0],c=\"purple\")\n",
    "    plt.scatter(dx[result.labels_==4.0], dy[result.labels_==4.0],c=\"red\") \n",
    "    plt.show()\n",
    "    return result"
   ]
  },
  {
   "cell_type": "markdown",
   "metadata": {},
   "source": [
    "# ２クラスタ分割"
   ]
  },
  {
   "cell_type": "code",
   "execution_count": null,
   "metadata": {},
   "outputs": [],
   "source": [
    "go(2,1);\n",
    "go(2,2);\n",
    "go(2,3);"
   ]
  },
  {
   "cell_type": "markdown",
   "metadata": {},
   "source": [
    "# 課題１　３クラスタ、４クラスタも試してみよ"
   ]
  },
  {
   "cell_type": "markdown",
   "metadata": {},
   "source": [
    "# ５クラスタ"
   ]
  },
  {
   "cell_type": "code",
   "execution_count": null,
   "metadata": {},
   "outputs": [],
   "source": [
    "for i in range(3):\n",
    "    go(5,i+1)"
   ]
  },
  {
   "cell_type": "markdown",
   "metadata": {},
   "source": [
    "# 実験２　グループの要素数に偏りがある場合"
   ]
  },
  {
   "cell_type": "code",
   "execution_count": null,
   "metadata": {},
   "outputs": [],
   "source": [
    "# ダミーデータの生成　　　　出席点、課題点、試験点\n",
    "np.random.seed(1)\n",
    "data1 = np.round(np.random.multivariate_normal([50,50],[[20,0],[0,30]],1000),1) \n",
    "data2 = np.round(np.random.multivariate_normal([70,42],[[5,0],[0,5]],30),1) \n",
    "data3 = np.round(np.random.multivariate_normal([70,58],[[5,0],[0,5]],30),1)  \n",
    "data = np.r_[data1,data2,data3]\n",
    "rank = np.r_[np.array(['A']*1000),np.array(['B']*30),np.array(['C']*30)]\n",
    "df = pd.DataFrame(data,columns=['X','Y'])\n",
    "df['Label']=rank\n",
    "df= df.reindex(np.random.permutation(df.index)).reset_index(drop=True)\n",
    "df.head(5) #  頭から 5個だけ表示"
   ]
  },
  {
   "cell_type": "markdown",
   "metadata": {},
   "source": [
    "# 分布の確認"
   ]
  },
  {
   "cell_type": "code",
   "execution_count": null,
   "metadata": {},
   "outputs": [],
   "source": [
    "dx,dy,rk = np.array(df['X']),np.array(df['Y']),np.array(df['Label'])\n",
    "fig = plt.figure()\n",
    "plt.scatter(dx[df['Label']=='A'], dy[df['Label']=='A'], c=\"green\")\n",
    "plt.scatter(dx[df['Label']=='B'], dy[df['Label']=='B'], c=\"blue\")\n",
    "plt.scatter(dx[df['Label']=='C'], dy[df['Label']=='C'], c=\"orange\")\n",
    "plt.show()"
   ]
  },
  {
   "cell_type": "markdown",
   "metadata": {},
   "source": [
    "# 数値データ部分だけを抽出¶"
   ]
  },
  {
   "cell_type": "markdown",
   "metadata": {},
   "source": [
    "# k-means　法によるクラスタリング"
   ]
  },
  {
   "cell_type": "code",
   "execution_count": null,
   "metadata": {
    "collapsed": true
   },
   "outputs": [],
   "source": [
    "data = df.T[0:2].T\n",
    "data.head()\n",
    "\n",
    "def d(n,itr):\n",
    "    global result\n",
    "    km = KMeans(n_clusters=n,init='random',n_init=1,max_iter=itr,random_state=1)\n",
    "    result = km.fit(data)\n",
    "    fig = plt.figure()\n",
    " \n",
    "    print(np.round([km.cluster_centers_[:,0],km.cluster_centers_[:,1]],2))\n",
    "    plt.scatter(km.cluster_centers_[:,0],km.cluster_centers_[:,1],marker='X',c='black')\n",
    "    plt.scatter(dx[result.labels_==0.0], dy[result.labels_==0.0], c=\"green\")\n",
    "    plt.scatter(dx[result.labels_==1.0], dy[result.labels_==1.0], c=\"blue\")\n",
    "    plt.scatter(dx[result.labels_==2.0], dy[result.labels_==2.0],c=\"orange\")\n",
    "    plt.scatter(dx[result.labels_==3.0], dy[result.labels_==3.0],c=\"purple\")\n",
    "    plt.show()\n",
    "    return result"
   ]
  },
  {
   "cell_type": "markdown",
   "metadata": {},
   "source": [
    "## 3クラスタに分割"
   ]
  },
  {
   "cell_type": "code",
   "execution_count": null,
   "metadata": {},
   "outputs": [],
   "source": [
    "d(3,1);"
   ]
  },
  {
   "cell_type": "code",
   "execution_count": null,
   "metadata": {},
   "outputs": [],
   "source": [
    "d(3,10);"
   ]
  },
  {
   "cell_type": "markdown",
   "metadata": {},
   "source": [
    "# 課題２\n",
    "{(0,0), (0,1), (0,2),(4,0), (4,1), (4,2)} をk-means 法で２つにクラスタリングせよ"
   ]
  },
  {
   "cell_type": "code",
   "execution_count": null,
   "metadata": {},
   "outputs": [],
   "source": [
    "Z = np.array([(0,0), (0,1), (0,2),(4,0), (4,1), (4,2)])\n",
    "def d(itr):\n",
    "    km = KMeans(n_clusters=2,init='random',n_init=2,max_iter=itr,random_state=0)\n",
    "    result=km.fit(Z)\n",
    "    fiig = plt.figure()\n",
    "    plt.scatter(km.cluster_centers_[:,0],km.cluster_centers_[:,1],marker='X',c='black')\n",
    "    plt.scatter(Z[:,0][result.labels_==0.0], Z[:,1][result.labels_==0.0], c=\"green\")\n",
    "    plt.scatter(Z[:,0][result.labels_==1.0], Z[:,1][result.labels_==1.0], c=\"blue\")\n",
    "    plt.show()\n",
    "    return result"
   ]
  },
  {
   "cell_type": "code",
   "execution_count": null,
   "metadata": {},
   "outputs": [],
   "source": [
    "d(1);"
   ]
  },
  {
   "cell_type": "code",
   "execution_count": null,
   "metadata": {},
   "outputs": [],
   "source": []
  },
  {
   "cell_type": "code",
   "execution_count": null,
   "metadata": {
    "collapsed": true
   },
   "outputs": [],
   "source": []
  }
 ],
 "metadata": {
  "kernelspec": {
   "display_name": "Python 3",
   "language": "python",
   "name": "python3"
  },
  "language_info": {
   "codemirror_mode": {
    "name": "ipython",
    "version": 3
   },
   "file_extension": ".py",
   "mimetype": "text/x-python",
   "name": "python",
   "nbconvert_exporter": "python",
   "pygments_lexer": "ipython3",
   "version": "3.6.2"
  }
 },
 "nbformat": 4,
 "nbformat_minor": 2
}
