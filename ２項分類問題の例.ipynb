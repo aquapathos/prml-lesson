{
 "cells": [
  {
   "cell_type": "code",
   "execution_count": 1,
   "metadata": {
    "collapsed": true
   },
   "outputs": [],
   "source": [
    "# numpyの準備\n",
    "import numpy as np"
   ]
  },
  {
   "cell_type": "code",
   "execution_count": 2,
   "metadata": {},
   "outputs": [
    {
     "name": "stdout",
     "output_type": "stream",
     "text": [
      "1,1.197458,0.113144\r\n",
      "0,-2.158210,-9.637910\r\n",
      "0,-1.917757,-10.669088\r\n",
      "0,-1.063986,-11.340088\r\n",
      "0,-0.728648,-7.189267\r\n",
      "0,-1.280092,-8.939123\r\n",
      "1,0.689163,1.291743\r\n",
      "1,-1.047073,-1.247297\r\n",
      "1,2.828582,-0.852862\r\n",
      "1,-0.028165,-0.861156\r\n",
      "0,-1.023532,-10.470254\r\n",
      "1,1.375116,-0.727277\r\n",
      "1,-0.139884,-0.860460\r\n",
      "1,0.273996,-1.876967\r\n",
      "1,2.166781,-3.637155\r\n",
      "1,-0.105489,0.290935\r\n",
      "0,-1.618924,-9.717659\r\n",
      "1,0.315574,-2.732991\r\n",
      "0,-1.549159,-7.250109\r\n",
      "1,-0.744710,-0.252728\r\n",
      "0,-0.777221,-10.726763\r\n",
      "1,2.154771,-0.907474\r\n",
      "1,1.373722,-1.510687\r\n",
      "1,0.589357,-2.678071\r\n",
      "1,0.669669,-0.869727\r\n",
      "1,0.531244,-0.942664\r\n",
      "0,-2.701319,-9.634971\r\n",
      "1,1.817953,-0.045339\r\n",
      "0,-2.338054,-10.390483\r\n",
      "1,2.360485,-0.075667\r\n",
      "1,0.091003,-1.884524\r\n",
      "0,-1.238563,-10.599401\r\n",
      "0,-3.148193,-7.750291\r\n",
      "1,0.611733,-1.227063\r\n",
      "1,0.294660,-2.222444\r\n",
      "1,1.688369,-3.327019\r\n",
      "0,-1.655771,-9.555946\r\n",
      "0,-1.299232,-8.306474\r\n",
      "0,-0.778245,-10.325689\r\n",
      "0,-1.914781,-8.973079\r\n",
      "0,0.187576,-9.817153\r\n",
      "0,-1.699418,-9.613804\r\n",
      "1,3.543688,-2.766725\r\n",
      "1,0.668200,-1.853787\r\n",
      "1,0.717070,-1.810436\r\n",
      "1,1.517546,-0.558273\r\n",
      "0,-2.027973,-9.472450\r\n",
      "1,0.803780,-1.370771\r\n",
      "1,0.339999,-0.451096\r\n",
      "0,-0.279736,-9.862568\r\n",
      "0,-0.741044,-10.077635\r\n",
      "0,-3.073538,-10.323223\r\n",
      "0,-3.714870,-9.368749\r\n",
      "0,-1.319672,-9.155472\r\n",
      "0,-2.109237,-9.393765\r\n",
      "0,-1.593610,-8.710464\r\n",
      "0,-0.668761,-9.433505\r\n",
      "0,-0.909657,-8.121842\r\n",
      "1,-1.666200,-1.385005\r\n",
      "0,-0.846606,-8.203096\r\n"
     ]
    }
   ],
   "source": [
    "# csvファイルの表示\n",
    "!cat 2D_example.csv"
   ]
  },
  {
   "cell_type": "code",
   "execution_count": 3,
   "metadata": {},
   "outputs": [
    {
     "name": "stdout",
     "output_type": "stream",
     "text": [
      "1,1.197458,0.113144\n",
      "0,-2.158210,-9.637910\n",
      "0,-1.917757,-10.669088\n",
      "0,-1.063986,-11.340088\n",
      "0,-0.728648,-7.189267\n",
      "0,-1.280092,-8.939123\n",
      "1,0.689163,1.291743\n",
      "1,-1.047073,-1.247297\n",
      "1,2.828582,-0.852862\n",
      "1,-0.028165,-0.861156\n",
      "0,-1.023532,-10.470254\n",
      "1,1.375116,-0.727277\n",
      "1,-0.139884,-0.860460\n",
      "1,0.273996,-1.876967\n",
      "1,2.166781,-3.637155\n",
      "1,-0.105489,0.290935\n",
      "0,-1.618924,-9.717659\n",
      "1,0.315574,-2.732991\n",
      "0,-1.549159,-7.250109\n",
      "1,-0.744710,-0.252728\n",
      "0,-0.777221,-10.726763\n",
      "1,2.154771,-0.907474\n",
      "1,1.373722,-1.510687\n",
      "1,0.589357,-2.678071\n",
      "1,0.669669,-0.869727\n",
      "1,0.531244,-0.942664\n",
      "0,-2.701319,-9.634971\n",
      "1,1.817953,-0.045339\n",
      "0,-2.338054,-10.390483\n",
      "1,2.360485,-0.075667\n",
      "1,0.091003,-1.884524\n",
      "0,-1.238563,-10.599401\n",
      "0,-3.148193,-7.750291\n",
      "1,0.611733,-1.227063\n",
      "1,0.294660,-2.222444\n",
      "1,1.688369,-3.327019\n",
      "0,-1.655771,-9.555946\n",
      "0,-1.299232,-8.306474\n",
      "0,-0.778245,-10.325689\n",
      "0,-1.914781,-8.973079\n",
      "0,0.187576,-9.817153\n",
      "0,-1.699418,-9.613804\n",
      "1,3.543688,-2.766725\n",
      "1,0.668200,-1.853787\n",
      "1,0.717070,-1.810436\n",
      "1,1.517546,-0.558273\n",
      "0,-2.027973,-9.472450\n",
      "1,0.803780,-1.370771\n",
      "1,0.339999,-0.451096\n",
      "0,-0.279736,-9.862568\n",
      "0,-0.741044,-10.077635\n",
      "0,-3.073538,-10.323223\n",
      "0,-3.714870,-9.368749\n",
      "0,-1.319672,-9.155472\n",
      "0,-2.109237,-9.393765\n",
      "0,-1.593610,-8.710464\n",
      "0,-0.668761,-9.433505\n",
      "0,-0.909657,-8.121842\n",
      "1,-1.666200,-1.385005\n",
      "0,-0.846606,-8.203096\n",
      "\n"
     ]
    }
   ],
   "source": [
    "with open('2D_example.csv') as f:\n",
    "    print(f.read())"
   ]
  },
  {
   "cell_type": "code",
   "execution_count": 4,
   "metadata": {
    "collapsed": true
   },
   "outputs": [],
   "source": [
    "# # making 2D_example.csv\n",
    "# import numpy as np\n",
    "# from sklearn.datasets import make_blobs\n",
    "# X, y = make_blobs(n_samples=20, # 20個生成\n",
    "#                   n_features=2, # 2次元\n",
    "#                   centers=2,    # クラスタ中心2個\n",
    "#                   cluster_std = 2, # クラスタの大きさ（標準偏差）\n",
    "#                   random_state=3   # 乱数種（再現用）\n",
    "#                  )\n",
    "# np.savetxt(\"2D_example.csv\", np.hstack((y.reshape(20,1), X)), fmt=\"%d,%f,%f\")"
   ]
  },
  {
   "cell_type": "code",
   "execution_count": 5,
   "metadata": {
    "collapsed": true
   },
   "outputs": [],
   "source": [
    "# dataにデータをセット\n",
    "data = np.loadtxt(\"2D_example.csv\", delimiter=\",\")"
   ]
  },
  {
   "cell_type": "code",
   "execution_count": 6,
   "metadata": {
    "collapsed": true
   },
   "outputs": [],
   "source": [
    "y = data[:,0].astype(int) # 1列目がラベル．整数に変換"
   ]
  },
  {
   "cell_type": "code",
   "execution_count": 7,
   "metadata": {},
   "outputs": [
    {
     "data": {
      "text/plain": [
       "array([1, 0, 0, 0, 0, 0, 1, 1, 1, 1, 0, 1, 1, 1, 1, 1, 0, 1, 0, 1, 0, 1, 1,\n",
       "       1, 1, 1, 0, 1, 0, 1, 1, 0, 0, 1, 1, 1, 0, 0, 0, 0, 0, 0, 1, 1, 1, 1,\n",
       "       0, 1, 1, 0, 0, 0, 0, 0, 0, 0, 0, 0, 1, 0])"
      ]
     },
     "execution_count": 7,
     "metadata": {},
     "output_type": "execute_result"
    }
   ],
   "source": [
    "y"
   ]
  },
  {
   "cell_type": "code",
   "execution_count": 8,
   "metadata": {
    "collapsed": true
   },
   "outputs": [],
   "source": [
    "X = data[:,1:3] # 2,3列目がデータ"
   ]
  },
  {
   "cell_type": "code",
   "execution_count": 9,
   "metadata": {},
   "outputs": [
    {
     "data": {
      "text/plain": [
       "array([[  1.197458,   0.113144],\n",
       "       [ -2.15821 ,  -9.63791 ],\n",
       "       [ -1.917757, -10.669088],\n",
       "       [ -1.063986, -11.340088],\n",
       "       [ -0.728648,  -7.189267],\n",
       "       [ -1.280092,  -8.939123],\n",
       "       [  0.689163,   1.291743],\n",
       "       [ -1.047073,  -1.247297],\n",
       "       [  2.828582,  -0.852862],\n",
       "       [ -0.028165,  -0.861156],\n",
       "       [ -1.023532, -10.470254],\n",
       "       [  1.375116,  -0.727277],\n",
       "       [ -0.139884,  -0.86046 ],\n",
       "       [  0.273996,  -1.876967],\n",
       "       [  2.166781,  -3.637155],\n",
       "       [ -0.105489,   0.290935],\n",
       "       [ -1.618924,  -9.717659],\n",
       "       [  0.315574,  -2.732991],\n",
       "       [ -1.549159,  -7.250109],\n",
       "       [ -0.74471 ,  -0.252728],\n",
       "       [ -0.777221, -10.726763],\n",
       "       [  2.154771,  -0.907474],\n",
       "       [  1.373722,  -1.510687],\n",
       "       [  0.589357,  -2.678071],\n",
       "       [  0.669669,  -0.869727],\n",
       "       [  0.531244,  -0.942664],\n",
       "       [ -2.701319,  -9.634971],\n",
       "       [  1.817953,  -0.045339],\n",
       "       [ -2.338054, -10.390483],\n",
       "       [  2.360485,  -0.075667],\n",
       "       [  0.091003,  -1.884524],\n",
       "       [ -1.238563, -10.599401],\n",
       "       [ -3.148193,  -7.750291],\n",
       "       [  0.611733,  -1.227063],\n",
       "       [  0.29466 ,  -2.222444],\n",
       "       [  1.688369,  -3.327019],\n",
       "       [ -1.655771,  -9.555946],\n",
       "       [ -1.299232,  -8.306474],\n",
       "       [ -0.778245, -10.325689],\n",
       "       [ -1.914781,  -8.973079],\n",
       "       [  0.187576,  -9.817153],\n",
       "       [ -1.699418,  -9.613804],\n",
       "       [  3.543688,  -2.766725],\n",
       "       [  0.6682  ,  -1.853787],\n",
       "       [  0.71707 ,  -1.810436],\n",
       "       [  1.517546,  -0.558273],\n",
       "       [ -2.027973,  -9.47245 ],\n",
       "       [  0.80378 ,  -1.370771],\n",
       "       [  0.339999,  -0.451096],\n",
       "       [ -0.279736,  -9.862568],\n",
       "       [ -0.741044, -10.077635],\n",
       "       [ -3.073538, -10.323223],\n",
       "       [ -3.71487 ,  -9.368749],\n",
       "       [ -1.319672,  -9.155472],\n",
       "       [ -2.109237,  -9.393765],\n",
       "       [ -1.59361 ,  -8.710464],\n",
       "       [ -0.668761,  -9.433505],\n",
       "       [ -0.909657,  -8.121842],\n",
       "       [ -1.6662  ,  -1.385005],\n",
       "       [ -0.846606,  -8.203096]])"
      ]
     },
     "execution_count": 9,
     "metadata": {},
     "output_type": "execute_result"
    }
   ],
   "source": [
    "X"
   ]
  },
  {
   "cell_type": "code",
   "execution_count": 10,
   "metadata": {
    "scrolled": true
   },
   "outputs": [
    {
     "data": {
      "text/plain": [
       "array([ 1.197458, -2.15821 , -1.917757, -1.063986, -0.728648, -1.280092,\n",
       "        0.689163, -1.047073,  2.828582, -0.028165, -1.023532,  1.375116,\n",
       "       -0.139884,  0.273996,  2.166781, -0.105489, -1.618924,  0.315574,\n",
       "       -1.549159, -0.74471 , -0.777221,  2.154771,  1.373722,  0.589357,\n",
       "        0.669669,  0.531244, -2.701319,  1.817953, -2.338054,  2.360485,\n",
       "        0.091003, -1.238563, -3.148193,  0.611733,  0.29466 ,  1.688369,\n",
       "       -1.655771, -1.299232, -0.778245, -1.914781,  0.187576, -1.699418,\n",
       "        3.543688,  0.6682  ,  0.71707 ,  1.517546, -2.027973,  0.80378 ,\n",
       "        0.339999, -0.279736, -0.741044, -3.073538, -3.71487 , -1.319672,\n",
       "       -2.109237, -1.59361 , -0.668761, -0.909657, -1.6662  , -0.846606])"
      ]
     },
     "execution_count": 10,
     "metadata": {},
     "output_type": "execute_result"
    }
   ],
   "source": [
    "X[:, 0] # Xの1列目（csvファイルの2列目）"
   ]
  },
  {
   "cell_type": "code",
   "execution_count": 11,
   "metadata": {},
   "outputs": [
    {
     "data": {
      "text/plain": [
       "array([  0.113144,  -9.63791 , -10.669088, -11.340088,  -7.189267,\n",
       "        -8.939123,   1.291743,  -1.247297,  -0.852862,  -0.861156,\n",
       "       -10.470254,  -0.727277,  -0.86046 ,  -1.876967,  -3.637155,\n",
       "         0.290935,  -9.717659,  -2.732991,  -7.250109,  -0.252728,\n",
       "       -10.726763,  -0.907474,  -1.510687,  -2.678071,  -0.869727,\n",
       "        -0.942664,  -9.634971,  -0.045339, -10.390483,  -0.075667,\n",
       "        -1.884524, -10.599401,  -7.750291,  -1.227063,  -2.222444,\n",
       "        -3.327019,  -9.555946,  -8.306474, -10.325689,  -8.973079,\n",
       "        -9.817153,  -9.613804,  -2.766725,  -1.853787,  -1.810436,\n",
       "        -0.558273,  -9.47245 ,  -1.370771,  -0.451096,  -9.862568,\n",
       "       -10.077635, -10.323223,  -9.368749,  -9.155472,  -9.393765,\n",
       "        -8.710464,  -9.433505,  -8.121842,  -1.385005,  -8.203096])"
      ]
     },
     "execution_count": 11,
     "metadata": {},
     "output_type": "execute_result"
    }
   ],
   "source": [
    "X[:, 1] # Xの2列目（csvファイルの3列目）"
   ]
  },
  {
   "cell_type": "code",
   "execution_count": 12,
   "metadata": {},
   "outputs": [
    {
     "data": {
      "text/plain": [
       "<matplotlib.figure.Figure at 0x110325710>"
      ]
     },
     "metadata": {},
     "output_type": "display_data"
    }
   ],
   "source": [
    "# matplotlibの準備\n",
    "import matplotlib.pyplot as plt\n",
    "%matplotlib inline\n",
    "plt.set_cmap(plt.cm.Paired) # 色設定"
   ]
  },
  {
   "cell_type": "code",
   "execution_count": 13,
   "metadata": {
    "scrolled": false
   },
   "outputs": [
    {
     "data": {
      "image/png": "[encoded data removed]",
      "text/plain": [
       "<matplotlib.figure.Figure at 0x11618e2e8>"
      ]
     },
     "metadata": {},
     "output_type": "display_data"
    }
   ],
   "source": [
    "# 2次元散布図でプロット\n",
    "plt.scatter(X[:, 0], X[:, 1], c=y, s=50);"
   ]
  },
  {
   "cell_type": "code",
   "execution_count": 14,
   "metadata": {
    "collapsed": true
   },
   "outputs": [],
   "source": [
    "# 境界線を引く関数の定義\n",
    "\n",
    "def plotBoundary(X, clf, mesh=True, boundary=True, n_neighbors=1):\n",
    "\n",
    "    # plot range\n",
    "    x_min = min(X[:,0])\n",
    "    x_max = max(X[:,0])\n",
    "    y_min = min(X[:,1])\n",
    "    y_max = max(X[:,1])\n",
    "\n",
    "    # visualizing decision function\n",
    "    XX, YY = np.mgrid[x_min:x_max:200j, y_min:y_max:200j] # make a grid\n",
    "    \n",
    "    Z = clf.predict(np.c_[XX.ravel(), YY.ravel()]) # evaluate the value \n",
    "    \n",
    "    Z = Z.reshape(XX.shape) # just reshape\n",
    "\n",
    "    if mesh:\n",
    "        plt.pcolormesh(XX, YY, Z, zorder=-10) # paint in 2 colors, if Z > 0 or not\n",
    "\n",
    "    if boundary:\n",
    "        plt.contour(XX, YY, Z, \n",
    "                    colors='k', linestyles='-', levels=[0])\n",
    "\n",
    "    plt.xlim(x_min, x_max)\n",
    "    plt.ylim(y_min, y_max)"
   ]
  },
  {
   "cell_type": "code",
   "execution_count": 15,
   "metadata": {
    "collapsed": true
   },
   "outputs": [],
   "source": [
    "# モジュールの準備\n",
    "from sklearn import neighbors\n",
    "\n",
    "# オブジェクト作成\n",
    "clf = neighbors.KNeighborsClassifier(n_neighbors=1)"
   ]
  },
  {
   "cell_type": "code",
   "execution_count": 16,
   "metadata": {
    "scrolled": true
   },
   "outputs": [
    {
     "data": {
      "image/png": "[encoded data removed]",
      "text/plain": [
       "<matplotlib.figure.Figure at 0x118818d30>"
      ]
     },
     "metadata": {},
     "output_type": "display_data"
    }
   ],
   "source": [
    "clf.fit(X, y) # 学習\n",
    "\n",
    "plt.scatter(X[:, 0], X[:, 1], marker='o', s=50, c=y)\n",
    "\n",
    "plotBoundary(X, clf) # 境界線の描画"
   ]
  },
  {
   "cell_type": "code",
   "execution_count": 17,
   "metadata": {
    "collapsed": true
   },
   "outputs": [],
   "source": [
    "# モジュールの準備\n",
    "from sklearn import linear_model\n",
    "\n",
    "# オブジェクト作成\n",
    "clf = linear_model.LogisticRegression()"
   ]
  },
  {
   "cell_type": "code",
   "execution_count": 18,
   "metadata": {},
   "outputs": [
    {
     "data": {
      "image/png": "[encoded data removed]",
      "text/plain": [
       "<matplotlib.figure.Figure at 0x11a9e8fd0>"
      ]
     },
     "metadata": {},
     "output_type": "display_data"
    }
   ],
   "source": [
    "clf.fit(X, y) # 学習\n",
    "\n",
    "plt.scatter(X[:, 0], X[:, 1], marker='o', s=50, c=y)\n",
    "\n",
    "plotBoundary(X, clf) # 境界線の描画"
   ]
  },
  {
   "cell_type": "code",
   "execution_count": 19,
   "metadata": {
    "collapsed": true
   },
   "outputs": [],
   "source": [
    "# モジュールの準備\n",
    "from sklearn import svm\n",
    "\n",
    "# オブジェクト作成\n",
    "clf = svm.SVC(kernel='linear')"
   ]
  },
  {
   "cell_type": "code",
   "execution_count": 20,
   "metadata": {},
   "outputs": [
    {
     "data": {
      "image/png": "[encoded data removed]",
      "text/plain": [
       "<matplotlib.figure.Figure at 0x11b373160>"
      ]
     },
     "metadata": {},
     "output_type": "display_data"
    }
   ],
   "source": [
    "clf.fit(X, y) # 学習\n",
    "\n",
    "plt.scatter(X[:, 0], X[:, 1], marker='o', s=50, c=y)\n",
    "\n",
    "plotBoundary(X, clf) # 境界線の描画"
   ]
  },
  {
   "cell_type": "code",
   "execution_count": 21,
   "metadata": {
    "collapsed": true
   },
   "outputs": [],
   "source": [
    "# モジュールの準備\n",
    "from sklearn import svm\n",
    "\n",
    "# オブジェクト作成\n",
    "clf = svm.SVC(kernel='rbf')"
   ]
  },
  {
   "cell_type": "code",
   "execution_count": 22,
   "metadata": {},
   "outputs": [
    {
     "data": {
      "image/png": "[encoded data removed]",
      "text/plain": [
       "<matplotlib.figure.Figure at 0x11a8eda58>"
      ]
     },
     "metadata": {},
     "output_type": "display_data"
    }
   ],
   "source": [
    "clf.fit(X, y) # 学習\n",
    "\n",
    "plt.scatter(X[:, 0], X[:, 1], marker='o', s=50, c=y)\n",
    "\n",
    "plotBoundary(X, clf) # 境界線の描画"
   ]
  },
  {
   "cell_type": "code",
   "execution_count": null,
   "metadata": {
    "collapsed": true
   },
   "outputs": [],
   "source": []
  }
 ],
 "metadata": {
  "anaconda-cloud": {},
  "kernelspec": {
   "display_name": "Python 3",
   "language": "python",
   "name": "python3"
  },
  "language_info": {
   "codemirror_mode": {
    "name": "ipython",
    "version": 3
   },
   "file_extension": ".py",
   "mimetype": "text/x-python",
   "name": "python",
   "nbconvert_exporter": "python",
   "pygments_lexer": "ipython3",
   "version": "3.6.2"
  }
 },
 "nbformat": 4,
 "nbformat_minor": 1
}
