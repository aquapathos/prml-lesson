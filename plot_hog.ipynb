{
 "cells": [
  {
   "cell_type": "markdown",
   "metadata": {},
   "source": [
    "\n",
    "# Histogram of Oriented Gradients\n",
    "\n",
    "- [参考](http://scikit-image.org/docs/0.11.x/auto_examples/plot_hog.html)"
   ]
  },
  {
   "cell_type": "code",
   "execution_count": null,
   "metadata": {},
   "outputs": [],
   "source": [
    "%matplotlib inline\n",
    "import matplotlib.pyplot as plt\n",
    "from skimage.feature import hog\n",
    "from skimage import data, color, exposure\n",
    "import numpy as np\n",
    "import io, urllib\n",
    "import cv2\n",
    "import PIL\n",
    "\n",
    "# 処理対象画像ファイルの URL　　　httpを含めること\n",
    "\n",
    "fname = \"http://onair-blog.jp/pepsicoara/upload/4e07ed996044e.jpeg\"\n",
    "\n",
    "#  jupyter の起動フォルダにアップロードしてそのファイル名を書いても OK\n",
    "# fname = \"kitty.jpg\"\n",
    "\n",
    "def url2img(url):\n",
    "    # print(url)\n",
    "    if url[:16] == \"http://localhost\":\n",
    "        pic = url.rsplit('/',1)[1]\n",
    "        f = open(\"pics/\"+pic,'rb')\n",
    "    elif url[:4] != \"http\":\n",
    "        f = open(url,'rb')\n",
    "        \n",
    "    else:\n",
    "        f = io.BytesIO(urllib.request.urlopen(url).read())\n",
    "    img = PIL.Image.open(f)\n",
    "    w,h = img.width, img.height\n",
    "    w1, h1 = 48*int(w/48), 48*int(h/48)\n",
    "    return img.resize((w1,h1))\n",
    "\n",
    "src = url2img(fname)"
   ]
  },
  {
   "cell_type": "code",
   "execution_count": null,
   "metadata": {},
   "outputs": [],
   "source": [
    "gray = color.rgb2gray(np.asarray(src))  # skimage 形式のグレー画像に変換\n",
    "# HOG 特徴の抽出   １ブロック　３ｘ３　　　１セル 16x16  \n",
    "fd, hog_image = hog(gray, orientations=9, pixels_per_cell=(16, 16),\n",
    "                    cells_per_block=(3,3), visualise=True, block_norm='L2-Hys')\n",
    "\n",
    "print(\"画像サイズ {} ブロック数　{} x {} \".format(src.size, src.size[0]/16, src.size[1]/16))\n",
    "dx, dy = src.size[0] /16 -2,src.size[1]/16 -2\n",
    "print(\"HOG特徴次元数 {} = 横ブロック数　{} x 縦ブロック数 {} x ブロック当たりのセル 9 × 方向数 9\".format(fd.shape[0],dx,dy))\n",
    "'''両端のセルはただしく正規化できないので、 縦横を１６で割った数よりそれぞれ２少ない'''"
   ]
  },
  {
   "cell_type": "code",
   "execution_count": null,
   "metadata": {},
   "outputs": [],
   "source": [
    "fig, (ax1, ax2) = plt.subplots(1, 2, figsize=(10, 6))\n",
    "\n",
    "ax1.axis('off')\n",
    "ax1.imshow(ｓｒｃ, cmap=plt.cm.gray)\n",
    "ax1.set_title('Input image')\n",
    "\n",
    "# Rescale histogram for better display\n",
    "hog_image_rescaled = exposure.rescale_intensity(hog_image, in_range=(0, 0.01))\n",
    "ax2.axis('off')\n",
    "ax2.imshow(hog_image_rescaled, cmap=plt.cm.gray)\n",
    "ax2.set_title('Histogram of Oriented Gradients')\n",
    "plt.show()"
   ]
  },
  {
   "cell_type": "code",
   "execution_count": null,
   "metadata": {
    "scrolled": false
   },
   "outputs": [],
   "source": [
    "rimg= np.array(hog_image_rescaled*255 ,dtype=np.uint8) # 0-255 表現に変換\n",
    "img = np.asarray(src).copy()\n",
    "img[:,:,1] = np.bitwise_or(img[:,:,1],rimg)\n",
    "mini = PIL.Image.fromarray(img)\n",
    "mini.thumbnail((400,400),PIL.Image.ANTIALIAS)\n",
    "mini"
   ]
  },
  {
   "cell_type": "markdown",
   "metadata": {},
   "source": [
    "# HOG を用いた人物検出\n",
    "\n",
    "HOG は明暗変化に関しては強靭である。近傍ブロック単位での正規化により、明暗変化に対してはロバストであるので、日差しや照明がパフォーマンスに影響することは少ない。\n",
    "\n",
    "スケール不変でも回転不変でもないので、用途は対象のサイズや向きの振れ幅が小さい場合に限定される。例えば、店内の固定監視カメラなどでは画像に対する人物のサイズや向きが安定しているので向いている。\n",
    "\n",
    "### 応用例\n",
    "\n",
    "人物検出に適当なフレームサイズを定めて人物がフレームに入った画像とそうでない画像を多数用意し、学習により識別系を作成する。人物かそうでないかだけの識別であれば、比較的良好なパフォーマンスが得られそうである。\n"
   ]
  },
  {
   "cell_type": "code",
   "execution_count": null,
   "metadata": {
    "collapsed": true
   },
   "outputs": [],
   "source": []
  }
 ],
 "metadata": {
  "kernelspec": {
   "display_name": "Python 3",
   "language": "python",
   "name": "python3"
  },
  "language_info": {
   "codemirror_mode": {
    "name": "ipython",
    "version": 3
   },
   "file_extension": ".py",
   "mimetype": "text/x-python",
   "name": "python",
   "nbconvert_exporter": "python",
   "pygments_lexer": "ipython3",
   "version": "3.6.2"
  }
 },
 "nbformat": 4,
 "nbformat_minor": 1
}
